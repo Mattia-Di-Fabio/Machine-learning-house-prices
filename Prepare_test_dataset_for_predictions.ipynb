{
 "cells": [
  {
   "cell_type": "code",
   "execution_count": 1,
   "metadata": {},
   "outputs": [],
   "source": [
    "import pandas as pd\n",
    "import numpy as np"
   ]
  },
  {
   "cell_type": "code",
   "execution_count": 2,
   "metadata": {},
   "outputs": [],
   "source": [
    "df_train = pd.read_csv('Complete_housing_cleaned_onehot_splitted.csv')\n",
    "df_test = pd.read_csv('test.csv')\n",
    "\n",
    "\n"
   ]
  },
  {
   "cell_type": "code",
   "execution_count": 3,
   "metadata": {},
   "outputs": [
    {
     "name": "stdout",
     "output_type": "stream",
     "text": [
      "<class 'pandas.core.frame.DataFrame'>\n",
      "RangeIndex: 1137 entries, 0 to 1136\n",
      "Columns: 155 entries, LotArea to SaleCondition_Partial\n",
      "dtypes: float64(155)\n",
      "memory usage: 1.3 MB\n"
     ]
    }
   ],
   "source": [
    "df_train.drop(['SalePrice', 'residuals'], axis = 1, inplace=True)\n",
    "df_train.info()"
   ]
  },
  {
   "cell_type": "code",
   "execution_count": 4,
   "metadata": {},
   "outputs": [],
   "source": [
    "df_numerical_test = df_test.select_dtypes(['int64', 'float64'])\n",
    "df_categorical_test = df_test.select_dtypes(['object'])"
   ]
  },
  {
   "cell_type": "code",
   "execution_count": 5,
   "metadata": {},
   "outputs": [],
   "source": [
    "df_numerical_test.replace(0, 1, inplace=True)\n",
    "df_numerical_test = np.log(df_numerical_test)\n",
    "\n"
   ]
  },
  {
   "cell_type": "code",
   "execution_count": 6,
   "metadata": {},
   "outputs": [
    {
     "name": "stdout",
     "output_type": "stream",
     "text": [
      "<class 'pandas.core.frame.DataFrame'>\n",
      "RangeIndex: 1459 entries, 0 to 1458\n",
      "Data columns (total 20 columns):\n",
      " #   Column        Non-Null Count  Dtype  \n",
      "---  ------        --------------  -----  \n",
      " 0   LotArea       1459 non-null   float64\n",
      " 1   OverallQual   1459 non-null   float64\n",
      " 2   OverallCond   1459 non-null   float64\n",
      " 3   YearBuilt     1459 non-null   float64\n",
      " 4   YearRemodAdd  1459 non-null   float64\n",
      " 5   MasVnrArea    1444 non-null   float64\n",
      " 6   BsmtFinSF1    1458 non-null   float64\n",
      " 7   BsmtUnfSF     1458 non-null   float64\n",
      " 8   TotalBsmtSF   1458 non-null   float64\n",
      " 9   1stFlrSF      1459 non-null   float64\n",
      " 10  2ndFlrSF      1459 non-null   float64\n",
      " 11  GrLivArea     1459 non-null   float64\n",
      " 12  FullBath      1459 non-null   float64\n",
      " 13  BedroomAbvGr  1459 non-null   float64\n",
      " 14  Fireplaces    1459 non-null   float64\n",
      " 15  GarageCars    1458 non-null   float64\n",
      " 16  GarageArea    1458 non-null   float64\n",
      " 17  WoodDeckSF    1459 non-null   float64\n",
      " 18  OpenPorchSF   1459 non-null   float64\n",
      " 19  MoSold        1459 non-null   float64\n",
      "dtypes: float64(20)\n",
      "memory usage: 228.1 KB\n"
     ]
    }
   ],
   "source": [
    "for column in df_numerical_test.columns:\n",
    "    if column not in df_train.columns:\n",
    "        df_numerical_test.drop(column, axis=1, inplace=True)\n",
    "\n",
    "df_numerical_test.info()"
   ]
  },
  {
   "cell_type": "code",
   "execution_count": 7,
   "metadata": {},
   "outputs": [
    {
     "name": "stdout",
     "output_type": "stream",
     "text": [
      "<class 'pandas.core.frame.DataFrame'>\n",
      "RangeIndex: 1459 entries, 0 to 1458\n",
      "Data columns (total 20 columns):\n",
      " #   Column        Non-Null Count  Dtype  \n",
      "---  ------        --------------  -----  \n",
      " 0   LotArea       1459 non-null   float64\n",
      " 1   OverallQual   1459 non-null   float64\n",
      " 2   OverallCond   1459 non-null   float64\n",
      " 3   YearBuilt     1459 non-null   float64\n",
      " 4   YearRemodAdd  1459 non-null   float64\n",
      " 5   MasVnrArea    1459 non-null   float64\n",
      " 6   BsmtFinSF1    1459 non-null   float64\n",
      " 7   BsmtUnfSF     1459 non-null   float64\n",
      " 8   TotalBsmtSF   1459 non-null   float64\n",
      " 9   1stFlrSF      1459 non-null   float64\n",
      " 10  2ndFlrSF      1459 non-null   float64\n",
      " 11  GrLivArea     1459 non-null   float64\n",
      " 12  FullBath      1459 non-null   float64\n",
      " 13  BedroomAbvGr  1459 non-null   float64\n",
      " 14  Fireplaces    1459 non-null   float64\n",
      " 15  GarageCars    1459 non-null   float64\n",
      " 16  GarageArea    1459 non-null   float64\n",
      " 17  WoodDeckSF    1459 non-null   float64\n",
      " 18  OpenPorchSF   1459 non-null   float64\n",
      " 19  MoSold        1459 non-null   float64\n",
      "dtypes: float64(20)\n",
      "memory usage: 228.1 KB\n"
     ]
    }
   ],
   "source": [
    "from sklearn.impute import KNNImputer\n",
    "\n",
    "imputer = KNNImputer(n_neighbors = 5)\n",
    "df_numerical_test = pd.DataFrame(imputer.fit_transform(df_numerical_test), columns=df_numerical_test.columns)\n",
    "\n",
    "df_numerical_test.info()"
   ]
  },
  {
   "cell_type": "code",
   "execution_count": 8,
   "metadata": {},
   "outputs": [
    {
     "name": "stdout",
     "output_type": "stream",
     "text": [
      "<class 'pandas.core.frame.DataFrame'>\n",
      "RangeIndex: 1459 entries, 0 to 1458\n",
      "Data columns (total 43 columns):\n",
      " #   Column         Non-Null Count  Dtype \n",
      "---  ------         --------------  ----- \n",
      " 0   MSZoning       1455 non-null   object\n",
      " 1   Street         1459 non-null   object\n",
      " 2   Alley          107 non-null    object\n",
      " 3   LotShape       1459 non-null   object\n",
      " 4   LandContour    1459 non-null   object\n",
      " 5   Utilities      1457 non-null   object\n",
      " 6   LotConfig      1459 non-null   object\n",
      " 7   LandSlope      1459 non-null   object\n",
      " 8   Neighborhood   1459 non-null   object\n",
      " 9   Condition1     1459 non-null   object\n",
      " 10  Condition2     1459 non-null   object\n",
      " 11  BldgType       1459 non-null   object\n",
      " 12  HouseStyle     1459 non-null   object\n",
      " 13  RoofStyle      1459 non-null   object\n",
      " 14  RoofMatl       1459 non-null   object\n",
      " 15  Exterior1st    1458 non-null   object\n",
      " 16  Exterior2nd    1458 non-null   object\n",
      " 17  MasVnrType     565 non-null    object\n",
      " 18  ExterQual      1459 non-null   object\n",
      " 19  ExterCond      1459 non-null   object\n",
      " 20  Foundation     1459 non-null   object\n",
      " 21  BsmtQual       1415 non-null   object\n",
      " 22  BsmtCond       1414 non-null   object\n",
      " 23  BsmtExposure   1415 non-null   object\n",
      " 24  BsmtFinType1   1417 non-null   object\n",
      " 25  BsmtFinType2   1417 non-null   object\n",
      " 26  Heating        1459 non-null   object\n",
      " 27  HeatingQC      1459 non-null   object\n",
      " 28  CentralAir     1459 non-null   object\n",
      " 29  Electrical     1459 non-null   object\n",
      " 30  KitchenQual    1458 non-null   object\n",
      " 31  Functional     1457 non-null   object\n",
      " 32  FireplaceQu    729 non-null    object\n",
      " 33  GarageType     1383 non-null   object\n",
      " 34  GarageFinish   1381 non-null   object\n",
      " 35  GarageQual     1381 non-null   object\n",
      " 36  GarageCond     1381 non-null   object\n",
      " 37  PavedDrive     1459 non-null   object\n",
      " 38  PoolQC         3 non-null      object\n",
      " 39  Fence          290 non-null    object\n",
      " 40  MiscFeature    51 non-null     object\n",
      " 41  SaleType       1458 non-null   object\n",
      " 42  SaleCondition  1459 non-null   object\n",
      "dtypes: object(43)\n",
      "memory usage: 490.3+ KB\n"
     ]
    }
   ],
   "source": [
    "df_categorical_test.info()"
   ]
  },
  {
   "cell_type": "code",
   "execution_count": 9,
   "metadata": {},
   "outputs": [
    {
     "name": "stdout",
     "output_type": "stream",
     "text": [
      "<class 'pandas.core.frame.DataFrame'>\n",
      "RangeIndex: 1459 entries, 0 to 1458\n",
      "Data columns (total 22 columns):\n",
      " #   Column         Non-Null Count  Dtype \n",
      "---  ------         --------------  ----- \n",
      " 0   MSZoning       1455 non-null   object\n",
      " 1   LotShape       1459 non-null   object\n",
      " 2   LotConfig      1459 non-null   object\n",
      " 3   Neighborhood   1459 non-null   object\n",
      " 4   BldgType       1459 non-null   object\n",
      " 5   HouseStyle     1459 non-null   object\n",
      " 6   RoofStyle      1459 non-null   object\n",
      " 7   Exterior1st    1458 non-null   object\n",
      " 8   Exterior2nd    1458 non-null   object\n",
      " 9   MasVnrType     565 non-null    object\n",
      " 10  ExterQual      1459 non-null   object\n",
      " 11  Foundation     1459 non-null   object\n",
      " 12  BsmtQual       1415 non-null   object\n",
      " 13  BsmtExposure   1415 non-null   object\n",
      " 14  BsmtFinType1   1417 non-null   object\n",
      " 15  HeatingQC      1459 non-null   object\n",
      " 16  KitchenQual    1458 non-null   object\n",
      " 17  FireplaceQu    729 non-null    object\n",
      " 18  GarageType     1383 non-null   object\n",
      " 19  GarageFinish   1381 non-null   object\n",
      " 20  Fence          290 non-null    object\n",
      " 21  SaleCondition  1459 non-null   object\n",
      "dtypes: object(22)\n",
      "memory usage: 250.9+ KB\n"
     ]
    }
   ],
   "source": [
    "df_categorical_test.drop(['Street', 'LandContour', 'Utilities', 'LandSlope',\n",
    "                          'Condition1', 'Condition2', 'RoofMatl', 'ExterCond',\n",
    "                          'BsmtCond', 'BsmtFinType2', 'Heating', 'CentralAir', \n",
    "                          'Electrical', 'Functional', 'GarageQual', 'GarageCond',\n",
    "                          'PavedDrive','MiscFeature', 'SaleType', 'Alley', 'PoolQC'],\n",
    "                           axis=1, inplace=True)\n",
    "\n",
    "df_categorical_test.info()"
   ]
  },
  {
   "cell_type": "code",
   "execution_count": 10,
   "metadata": {},
   "outputs": [],
   "source": [
    "df_categorical_test = pd.get_dummies(df_categorical_test)"
   ]
  },
  {
   "cell_type": "code",
   "execution_count": 11,
   "metadata": {},
   "outputs": [
    {
     "name": "stdout",
     "output_type": "stream",
     "text": [
      "<class 'pandas.core.frame.DataFrame'>\n",
      "RangeIndex: 1459 entries, 0 to 1458\n",
      "Columns: 145 entries, MSZoning_C (all) to SaleCondition_Partial\n",
      "dtypes: float64(145)\n",
      "memory usage: 1.6 MB\n"
     ]
    }
   ],
   "source": [
    "from sklearn.impute import KNNImputer\n",
    "\n",
    "imputer = KNNImputer()\n",
    "df_categorical_test = pd.DataFrame(imputer.fit_transform(df_categorical_test), columns=df_categorical_test.columns)\n",
    "\n",
    "df_categorical_test.info()\n",
    "\n"
   ]
  },
  {
   "cell_type": "code",
   "execution_count": 12,
   "metadata": {},
   "outputs": [
    {
     "name": "stdout",
     "output_type": "stream",
     "text": [
      "<class 'pandas.core.frame.DataFrame'>\n",
      "RangeIndex: 1459 entries, 0 to 1458\n",
      "Columns: 165 entries, LotArea to SaleCondition_Partial\n",
      "dtypes: float64(165)\n",
      "memory usage: 1.8 MB\n",
      "<class 'pandas.core.frame.DataFrame'>\n",
      "RangeIndex: 1137 entries, 0 to 1136\n",
      "Columns: 155 entries, LotArea to SaleCondition_Partial\n",
      "dtypes: float64(155)\n",
      "memory usage: 1.3 MB\n"
     ]
    }
   ],
   "source": [
    "df_test = pd.concat([df_numerical_test, df_categorical_test], axis=1)\n",
    "df_test.info()\n",
    "df_train.info()"
   ]
  },
  {
   "cell_type": "code",
   "execution_count": 13,
   "metadata": {},
   "outputs": [
    {
     "name": "stdout",
     "output_type": "stream",
     "text": [
      "HouseStyle_2.5Fin\n",
      "Exterior1st_ImStucc\n",
      "Exterior1st_Stone\n",
      "Exterior2nd_Other\n",
      "MasVnrType_nan\n",
      "BsmtQual_nan\n",
      "BsmtExposure_nan\n",
      "BsmtFinType1_nan\n",
      "FireplaceQu_nan\n",
      "GarageType_nan\n",
      "GarageFinish_nan\n",
      "Fence_nan\n",
      "<class 'pandas.core.frame.DataFrame'>\n",
      "RangeIndex: 1459 entries, 0 to 1458\n",
      "Columns: 177 entries, LotArea to Fence_nan\n",
      "dtypes: float64(165), int64(12)\n",
      "memory usage: 2.0 MB\n"
     ]
    }
   ],
   "source": [
    "for column in df_train.columns:\n",
    "    if column not in df_test:\n",
    "        print(column)\n",
    "        df_test[column] = 0\n",
    "        \n",
    "df_test.info()"
   ]
  },
  {
   "cell_type": "code",
   "execution_count": 14,
   "metadata": {},
   "outputs": [],
   "source": [
    "for column in df_train.columns:\n",
    "    if column not in df_test.columns:\n",
    "        print(f'{column}')"
   ]
  },
  {
   "cell_type": "code",
   "execution_count": 15,
   "metadata": {},
   "outputs": [],
   "source": [
    "df_test = df_test.reindex(columns = df_train.columns)"
   ]
  },
  {
   "cell_type": "code",
   "execution_count": 16,
   "metadata": {},
   "outputs": [
    {
     "name": "stdout",
     "output_type": "stream",
     "text": [
      "<class 'pandas.core.frame.DataFrame'>\n",
      "RangeIndex: 1459 entries, 0 to 1458\n",
      "Columns: 155 entries, LotArea to SaleCondition_Partial\n",
      "dtypes: float64(143), int64(12)\n",
      "memory usage: 1.7 MB\n",
      "<class 'pandas.core.frame.DataFrame'>\n",
      "RangeIndex: 1137 entries, 0 to 1136\n",
      "Columns: 155 entries, LotArea to SaleCondition_Partial\n",
      "dtypes: float64(155)\n",
      "memory usage: 1.3 MB\n"
     ]
    }
   ],
   "source": [
    "df_test.info()\n",
    "df_train.info()"
   ]
  },
  {
   "cell_type": "code",
   "execution_count": 17,
   "metadata": {},
   "outputs": [],
   "source": [
    "df_test.to_csv('Full_kaggle_test_ready_onehot.csv', index=False)"
   ]
  }
 ],
 "metadata": {
  "kernelspec": {
   "display_name": "my_env",
   "language": "python",
   "name": "python3"
  },
  "language_info": {
   "codemirror_mode": {
    "name": "ipython",
    "version": 3
   },
   "file_extension": ".py",
   "mimetype": "text/x-python",
   "name": "python",
   "nbconvert_exporter": "python",
   "pygments_lexer": "ipython3",
   "version": "3.11.4"
  }
 },
 "nbformat": 4,
 "nbformat_minor": 2
}
