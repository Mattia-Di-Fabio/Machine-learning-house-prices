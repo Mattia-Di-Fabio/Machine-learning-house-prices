{
 "cells": [
  {
   "cell_type": "code",
   "execution_count": 1,
   "metadata": {},
   "outputs": [],
   "source": [
    "import pandas as pd\n",
    "import numpy as np\n",
    "import pickle"
   ]
  },
  {
   "cell_type": "code",
   "execution_count": 2,
   "metadata": {},
   "outputs": [],
   "source": [
    "with open('regression_model.pkl','rb') as model_file:\n",
    "    model=pickle.load(model_file)"
   ]
  },
  {
   "cell_type": "code",
   "execution_count": 3,
   "metadata": {},
   "outputs": [
    {
     "name": "stdout",
     "output_type": "stream",
     "text": [
      "<class 'pandas.core.frame.DataFrame'>\n",
      "RangeIndex: 1459 entries, 0 to 1458\n",
      "Columns: 155 entries, LotArea to SaleCondition_Partial\n",
      "dtypes: float64(143), int64(12)\n",
      "memory usage: 1.7 MB\n"
     ]
    }
   ],
   "source": [
    "df_test = pd.read_csv('Full_kaggle_test_ready_onehot.csv')\n",
    "\n",
    "df_test.info()"
   ]
  },
  {
   "cell_type": "code",
   "execution_count": 4,
   "metadata": {},
   "outputs": [
    {
     "name": "stdout",
     "output_type": "stream",
     "text": [
      "0       11.745034\n",
      "1       12.052524\n",
      "2       12.112899\n",
      "3       12.244149\n",
      "4       12.149401\n",
      "          ...    \n",
      "1454    11.109163\n",
      "1455    11.216835\n",
      "1456    12.051059\n",
      "1457    11.533235\n",
      "1458    12.267643\n",
      "Name: SalePrice, Length: 1459, dtype: float64\n"
     ]
    }
   ],
   "source": [
    "X_test = df_test\n",
    "df_test['SalePrice'] = model.predict(X_test)\n",
    "\n",
    "print(df_test['SalePrice'])"
   ]
  },
  {
   "cell_type": "code",
   "execution_count": 5,
   "metadata": {},
   "outputs": [
    {
     "name": "stdout",
     "output_type": "stream",
     "text": [
      "0       126125.674994\n",
      "1       171531.802208\n",
      "2       182207.135493\n",
      "3       207762.061093\n",
      "4       188980.803895\n",
      "            ...      \n",
      "1454     66780.267486\n",
      "1455     74372.019017\n",
      "1456    171280.650462\n",
      "1457    102051.767651\n",
      "1458    212700.977425\n",
      "Name: SalePrice, Length: 1459, dtype: float64\n"
     ]
    }
   ],
   "source": [
    "df_test['SalePrice'] = np.exp(df_test['SalePrice'])\n",
    "\n",
    "print(df_test['SalePrice'])"
   ]
  },
  {
   "cell_type": "code",
   "execution_count": 6,
   "metadata": {},
   "outputs": [],
   "source": [
    "df_submission = pd.read_csv('test.csv')\n",
    "\n",
    "df_submission['SalePrice'] = df_test['SalePrice']"
   ]
  },
  {
   "cell_type": "code",
   "execution_count": 7,
   "metadata": {},
   "outputs": [],
   "source": [
    "df_submission=df_submission[['Id','SalePrice']]"
   ]
  },
  {
   "cell_type": "code",
   "execution_count": 8,
   "metadata": {},
   "outputs": [],
   "source": [
    "df_submission.to_csv('submission.csv', index=False)"
   ]
  }
 ],
 "metadata": {
  "kernelspec": {
   "display_name": "my_env",
   "language": "python",
   "name": "python3"
  },
  "language_info": {
   "codemirror_mode": {
    "name": "ipython",
    "version": 3
   },
   "file_extension": ".py",
   "mimetype": "text/x-python",
   "name": "python",
   "nbconvert_exporter": "python",
   "pygments_lexer": "ipython3",
   "version": "3.11.4"
  }
 },
 "nbformat": 4,
 "nbformat_minor": 2
}
